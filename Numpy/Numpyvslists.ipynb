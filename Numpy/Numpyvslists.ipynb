{
 "cells": [
  {
   "cell_type": "markdown",
   "id": "66c00b67-58f8-4b91-b9ef-fe128ce9e4ed",
   "metadata": {},
   "source": [
    "Testing which is faster numpy arrays or lists by generating some 10million random numbers and finding average"
   ]
  },
  {
   "cell_type": "code",
   "execution_count": 2,
   "id": "ee5dcfbf-1107-458f-9471-5a5ef4ed3d88",
   "metadata": {},
   "outputs": [
    {
     "name": "stdout",
     "output_type": "stream",
     "text": [
      "150.0026768\n",
      "2.2434844970703125\n"
     ]
    }
   ],
   "source": [
    "import random as rd\n",
    "import statistics as st\n",
    "import time \n",
    "\n",
    "n = 10000000\n",
    "nums = []\n",
    "\n",
    "for i in range(n):\n",
    "    num = rd.randint(100, 200)\n",
    "    nums.append(num)\n",
    "\n",
    "# this time.time(), just gives how many seconds  have passed after jan 1, 1970\n",
    "start_time = time.time()\n",
    "print(st.mean(nums))\n",
    "end_time = time.time()\n",
    "\n",
    "print(end_time - start_time)"
   ]
  },
  {
   "cell_type": "code",
   "execution_count": 4,
   "id": "932c0886-ce46-4ede-b961-e4c09cd8c7b9",
   "metadata": {},
   "outputs": [
    {
     "name": "stdout",
     "output_type": "stream",
     "text": [
      "149.5136372\n",
      "0.006485462188720703\n"
     ]
    }
   ],
   "source": [
    "# Above list took nearly 4 seconds, now doing the same thing using numpy arrays\n",
    "import numpy as np\n",
    "\n",
    "n = 10000000\n",
    "# this generates a random array of size n with integers between 100, 200.\n",
    "arr = np.random.randint(100, 200, n)\n",
    "\n",
    "start_time = time.time()\n",
    "print(np.mean(arr))\n",
    "end_time = time.time()  # fixed spelling here\n",
    "\n",
    "print(end_time - start_time)"
   ]
  },
  {
   "cell_type": "markdown",
   "id": "1c2ebdd3",
   "metadata": {},
   "source": [
    "The most important reason for arrays being faster than lists is because arrays store elements in a continuous memory location and also arrays store only same data type, whereas lists store data not as continuous locations(they store metadata like where is the element present, type of element and size of element also)."
   ]
  },
  {
   "cell_type": "markdown",
   "id": "a909aa19-506a-4e01-b032-7f9ed492ef7f",
   "metadata": {},
   "source": [
    "Every element in an array must be of same size and same type"
   ]
  },
  {
   "cell_type": "code",
   "execution_count": 5,
   "id": "6b9adcf0-2634-489a-8003-aed8b008c547",
   "metadata": {},
   "outputs": [
    {
     "data": {
      "text/plain": [
       "array(['1', 'hello', '2.5'], dtype='<U32')"
      ]
     },
     "execution_count": 5,
     "metadata": {},
     "output_type": "execute_result"
    }
   ],
   "source": [
    "arr = np.array([1, 'hello', 2.5])\n",
    "arr"
   ]
  },
  {
   "cell_type": "markdown",
   "id": "8282aec8",
   "metadata": {},
   "source": [
    "If we observe above even though we took different elements, it converted all into same datatype as string with 32 max character length"
   ]
  },
  {
   "cell_type": "markdown",
   "id": "c85e1dda",
   "metadata": {},
   "source": [
    "Now we will try to take a string larger than 32 bits"
   ]
  },
  {
   "cell_type": "code",
   "execution_count": 6,
   "id": "21ea738c-a2f7-4d11-8068-ce24497d796d",
   "metadata": {},
   "outputs": [
    {
     "data": {
      "text/plain": [
       "array(['1', 'a really long long long long lon', '2.5'], dtype='<U32')"
      ]
     },
     "execution_count": 6,
     "metadata": {},
     "output_type": "execute_result"
    }
   ],
   "source": [
    "arr[1] = 'a really long long long long long long long long long long long string'\n",
    "arr"
   ]
  },
  {
   "cell_type": "code",
   "execution_count": 32,
   "id": "58dfe98d-f7c5-4f05-a794-bce257bd5262",
   "metadata": {},
   "outputs": [
    {
     "data": {
      "text/plain": [
       "'a really long long long long lon'"
      ]
     },
     "execution_count": 32,
     "metadata": {},
     "output_type": "execute_result"
    }
   ],
   "source": [
    "arr[1]"
   ]
  },
  {
   "cell_type": "markdown",
   "id": "b2fd712b",
   "metadata": {},
   "source": [
    "If we observe above it only took first 32 characters and truncated the remaining ones"
   ]
  }
 ],
 "metadata": {
  "kernelspec": {
   "display_name": "Python 3",
   "language": "python",
   "name": "python3"
  },
  "language_info": {
   "codemirror_mode": {
    "name": "ipython",
    "version": 3
   },
   "file_extension": ".py",
   "mimetype": "text/x-python",
   "name": "python",
   "nbconvert_exporter": "python",
   "pygments_lexer": "ipython3",
   "version": "3.12.1"
  }
 },
 "nbformat": 4,
 "nbformat_minor": 5
}
