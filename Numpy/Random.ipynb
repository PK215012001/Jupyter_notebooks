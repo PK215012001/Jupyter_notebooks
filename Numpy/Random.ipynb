{
 "cells": [
  {
   "cell_type": "markdown",
   "id": "ffdc1658-d345-4400-b3b0-a0b3787811ce",
   "metadata": {},
   "source": [
    "We can create random arrays by using random module"
   ]
  },
  {
   "cell_type": "code",
   "execution_count": 1,
   "id": "cb9f051b-3ed6-4c5c-8a3e-05fd5186b71a",
   "metadata": {},
   "outputs": [],
   "source": [
    "import numpy as np"
   ]
  },
  {
   "cell_type": "code",
   "execution_count": 11,
   "id": "481c18f9-da35-4e70-b4b6-79600feda617",
   "metadata": {},
   "outputs": [
    {
     "data": {
      "text/plain": [
       "0.26718716871772485"
      ]
     },
     "execution_count": 11,
     "metadata": {},
     "output_type": "execute_result"
    }
   ],
   "source": [
    "arr0 = np.random.random()\n",
    "arr0"
   ]
  },
  {
   "cell_type": "code",
   "execution_count": 12,
   "id": "2f8c4a52-4065-4b7d-86bd-865849fa6b67",
   "metadata": {},
   "outputs": [
    {
     "data": {
      "text/plain": [
       "array([0.55252762, 0.82269344, 0.98129606])"
      ]
     },
     "execution_count": 12,
     "metadata": {},
     "output_type": "execute_result"
    }
   ],
   "source": [
    "arr1 = np.random.random(3)\n",
    "arr1"
   ]
  },
  {
   "cell_type": "code",
   "execution_count": 13,
   "id": "ed847a9f-7640-46ff-b523-0e3cdb616c47",
   "metadata": {},
   "outputs": [
    {
     "data": {
      "text/plain": [
       "1"
      ]
     },
     "execution_count": 13,
     "metadata": {},
     "output_type": "execute_result"
    }
   ],
   "source": [
    "arr1.ndim"
   ]
  },
  {
   "cell_type": "code",
   "execution_count": 14,
   "id": "cc4b705a-3c10-41a6-a114-d19125987e7c",
   "metadata": {},
   "outputs": [
    {
     "data": {
      "text/plain": [
       "(3,)"
      ]
     },
     "execution_count": 14,
     "metadata": {},
     "output_type": "execute_result"
    }
   ],
   "source": [
    "arr1.shape"
   ]
  },
  {
   "cell_type": "code",
   "execution_count": 15,
   "id": "9d403d9b-4185-49d1-a3c9-463d26bda192",
   "metadata": {},
   "outputs": [
    {
     "data": {
      "text/plain": [
       "array([[0.45900873, 0.26799814, 0.21158288, 0.76883901, 0.22388686],\n",
       "       [0.28071071, 0.33009541, 0.48118482, 0.50183244, 0.02128336],\n",
       "       [0.30660434, 0.02812829, 0.4430811 , 0.65811439, 0.66659226]])"
      ]
     },
     "execution_count": 15,
     "metadata": {},
     "output_type": "execute_result"
    }
   ],
   "source": [
    "arr2 = np.random.random((3, 5))\n",
    "arr2"
   ]
  },
  {
   "cell_type": "code",
   "execution_count": 16,
   "id": "2584c3eb-d523-47e6-b4cb-46495d281e9a",
   "metadata": {},
   "outputs": [
    {
     "data": {
      "text/plain": [
       "array([[[0.85480139, 0.05938447, 0.46392864, 0.644336  , 0.87055881],\n",
       "        [0.90524286, 0.43688648, 0.58495273, 0.41992299, 0.61579122],\n",
       "        [0.55813518, 0.71340755, 0.64068891, 0.14132644, 0.65100513],\n",
       "        [0.22107132, 0.16438327, 0.17235234, 0.4304169 , 0.62622402]],\n",
       "\n",
       "       [[0.15065816, 0.8925002 , 0.03937036, 0.35888707, 0.57399906],\n",
       "        [0.09428005, 0.16071554, 0.56449234, 0.77567958, 0.81055455],\n",
       "        [0.13451038, 0.86133627, 0.87365701, 0.70122269, 0.91114133],\n",
       "        [0.39703994, 0.11913204, 0.97793737, 0.51077072, 0.94911147]],\n",
       "\n",
       "       [[0.61372092, 0.67088605, 0.46942156, 0.72471248, 0.27194719],\n",
       "        [0.60786473, 0.22640568, 0.63988584, 0.8889562 , 0.39385657],\n",
       "        [0.15254438, 0.79638232, 0.15561772, 0.46067999, 0.25311153],\n",
       "        [0.1994559 , 0.34875352, 0.52489641, 0.12410751, 0.34904154]]])"
      ]
     },
     "execution_count": 16,
     "metadata": {},
     "output_type": "execute_result"
    }
   ],
   "source": [
    "# We can also use rand module , but we can't pass tuple as shape, we will directly pass shape as integers\n",
    "arr3 = np.random.rand(3, 4, 5)\n",
    "arr3"
   ]
  },
  {
   "cell_type": "code",
   "execution_count": 17,
   "id": "de886ec3-1efa-4628-9498-680ac8e5e828",
   "metadata": {},
   "outputs": [
    {
     "data": {
      "text/plain": [
       "array([[ 0.43586513,  0.5225603 , -0.83783701, -0.10872159],\n",
       "       [ 0.09857818, -0.42963263, -0.05311183,  2.53571847],\n",
       "       [-1.64176657, -0.51150863,  0.12295236,  0.48334809]])"
      ]
     },
     "execution_count": 17,
     "metadata": {},
     "output_type": "execute_result"
    }
   ],
   "source": [
    "#randn gives us values from standard normal diostribution where mean is 0 and variance is 1, so majority of the values are in between -3, 3\n",
    "arrn = np.random.randn(3, 4)\n",
    "arrn"
   ]
  },
  {
   "cell_type": "code",
   "execution_count": 18,
   "id": "86335e08-2675-427f-acc3-cb8f54319c1f",
   "metadata": {},
   "outputs": [
    {
     "data": {
      "text/plain": [
       "array([[10, 19, 15, 18],\n",
       "       [13, 12, 17, 12],\n",
       "       [17, 16, 15, 11]])"
      ]
     },
     "execution_count": 18,
     "metadata": {},
     "output_type": "execute_result"
    }
   ],
   "source": [
    "array_int = np.random.randint(10, 20, (3, 4))\n",
    "array_int"
   ]
  },
  {
   "cell_type": "code",
   "execution_count": 26,
   "id": "6d45c965-15d7-44af-9d46-6893b952e2ab",
   "metadata": {},
   "outputs": [
    {
     "data": {
      "text/plain": [
       "array([[18, 34, 77],\n",
       "       [97, 89, 58]])"
      ]
     },
     "execution_count": 26,
     "metadata": {},
     "output_type": "execute_result"
    }
   ],
   "source": [
    "#Sometimes we want the same set of random numbers to use for our tests, we can do this by using seed function and everytime it runs with a \n",
    "# particlular seed value, same values will be formed\n",
    "np.random.seed(100)\n",
    "arr = np.random.randint(10, 100, (2, 3))\n",
    "arr"
   ]
  },
  {
   "cell_type": "code",
   "execution_count": 27,
   "id": "b46c3c88-7465-4572-a142-1e09252ff1a2",
   "metadata": {},
   "outputs": [
    {
     "data": {
      "text/plain": [
       "array([[18, 34, 77],\n",
       "       [97, 89, 58]])"
      ]
     },
     "execution_count": 27,
     "metadata": {},
     "output_type": "execute_result"
    }
   ],
   "source": [
    "arr"
   ]
  },
  {
   "cell_type": "code",
   "execution_count": 28,
   "id": "5595682a-830d-4a83-9717-8bb25aa53dd1",
   "metadata": {},
   "outputs": [
    {
     "data": {
      "text/plain": [
       "array([[20, 36, 79],\n",
       "       [99, 91, 60]])"
      ]
     },
     "execution_count": 28,
     "metadata": {},
     "output_type": "execute_result"
    }
   ],
   "source": [
    "arr+2"
   ]
  },
  {
   "cell_type": "code",
   "execution_count": 31,
   "id": "d55eae42-46dc-40a2-8156-d325165dd8eb",
   "metadata": {},
   "outputs": [
    {
     "data": {
      "text/plain": [
       "186"
      ]
     },
     "execution_count": 31,
     "metadata": {},
     "output_type": "execute_result"
    }
   ],
   "source": [
    "# We can even select our choiced numbers from some data\n",
    "arr = np.random.choice([12, 17, 186, 12])\n",
    "arr"
   ]
  },
  {
   "cell_type": "code",
   "execution_count": 34,
   "id": "74eabe5a-32e1-4e54-9744-4b016f8941c5",
   "metadata": {},
   "outputs": [
    {
     "data": {
      "text/plain": [
       "array([[186,  12, 186],\n",
       "       [ 17, 186, 186]])"
      ]
     },
     "execution_count": 34,
     "metadata": {},
     "output_type": "execute_result"
    }
   ],
   "source": [
    "# we can even pass shape we want\n",
    "arr = np.random.choice([12, 17, 186, 12], size = (2, 3))\n",
    "arr"
   ]
  },
  {
   "cell_type": "code",
   "execution_count": 35,
   "id": "3b0392a1-3fdb-44a9-a5c9-06a2b3400276",
   "metadata": {},
   "outputs": [
    {
     "data": {
      "text/plain": [
       "array([[12, 12, 12],\n",
       "       [12, 12, 12]])"
      ]
     },
     "execution_count": 35,
     "metadata": {},
     "output_type": "execute_result"
    }
   ],
   "source": [
    "# we can even pass the weights we want for each number\n",
    "arr = np.random.choice([12, 17, 186, 12], size = (2, 3), p = [1, 0, 0, 0])\n",
    "arr"
   ]
  },
  {
   "cell_type": "code",
   "execution_count": 36,
   "id": "94a24171-23a9-4dc2-9412-496370446451",
   "metadata": {},
   "outputs": [
    {
     "data": {
      "text/plain": [
       "array([1, 2, 3, 4])"
      ]
     },
     "execution_count": 36,
     "metadata": {},
     "output_type": "execute_result"
    }
   ],
   "source": [
    "# Bothg shuffle and permuation will shuffle our set but shuffle mnodifies the array in place but permuation will return a copy\n",
    "arr1 = np.array([1, 2, 3,4])\n",
    "arr1"
   ]
  },
  {
   "cell_type": "code",
   "execution_count": 39,
   "id": "6ddf8a3c-7800-4e99-9d80-43a782a4f7a3",
   "metadata": {},
   "outputs": [
    {
     "data": {
      "text/plain": [
       "array([1, 3, 2, 4])"
      ]
     },
     "execution_count": 39,
     "metadata": {},
     "output_type": "execute_result"
    }
   ],
   "source": [
    "np.random.shuffle(arr1)\n",
    "arr1"
   ]
  },
  {
   "cell_type": "code",
   "execution_count": 42,
   "id": "16da3f59-9807-451c-8cab-5839eeb3d3ac",
   "metadata": {},
   "outputs": [
    {
     "data": {
      "text/plain": [
       "array([1, 3, 2, 4])"
      ]
     },
     "execution_count": 42,
     "metadata": {},
     "output_type": "execute_result"
    }
   ],
   "source": [
    "arr2 = np.random.permutation(arr1)\n",
    "arr1"
   ]
  },
  {
   "cell_type": "code",
   "execution_count": 51,
   "id": "72fe1122-a606-44b3-8c81-ce938e9d8f9c",
   "metadata": {},
   "outputs": [
    {
     "data": {
      "text/plain": [
       "array([1, 2, 3, 4])"
      ]
     },
     "execution_count": 51,
     "metadata": {},
     "output_type": "execute_result"
    }
   ],
   "source": [
    "arr2"
   ]
  },
  {
   "cell_type": "code",
   "execution_count": null,
   "id": "349b9510-24d1-436f-a151-f0af54c92b6c",
   "metadata": {},
   "outputs": [],
   "source": []
  },
  {
   "cell_type": "code",
   "execution_count": null,
   "id": "f8b7c78e-2ecf-45b3-9fc9-df787c40c96a",
   "metadata": {},
   "outputs": [],
   "source": []
  }
 ],
 "metadata": {
  "kernelspec": {
   "display_name": "Python 3 (ipykernel)",
   "language": "python",
   "name": "python3"
  },
  "language_info": {
   "codemirror_mode": {
    "name": "ipython",
    "version": 3
   },
   "file_extension": ".py",
   "mimetype": "text/x-python",
   "name": "python",
   "nbconvert_exporter": "python",
   "pygments_lexer": "ipython3",
   "version": "3.11.7"
  }
 },
 "nbformat": 4,
 "nbformat_minor": 5
}
