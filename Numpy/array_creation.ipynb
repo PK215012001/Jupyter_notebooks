{
 "cells": [
  {
   "cell_type": "markdown",
   "id": "2c7de8df-cffb-49ca-9f2d-c46e613b9f98",
   "metadata": {},
   "source": [
    "We can create some basic useful arrays by using builtin functions as follows"
   ]
  },
  {
   "cell_type": "code",
   "execution_count": 1,
   "id": "ba33b644-d2e0-472b-998b-314749a8cf92",
   "metadata": {},
   "outputs": [],
   "source": [
    "import numpy as np"
   ]
  },
  {
   "cell_type": "code",
   "execution_count": 3,
   "id": "b7a62240-9dbc-44f1-8a86-310d48310545",
   "metadata": {},
   "outputs": [
    {
     "data": {
      "text/plain": [
       "array([[0., 0., 0., 0.],\n",
       "       [0., 0., 0., 0.],\n",
       "       [0., 0., 0., 0.]])"
      ]
     },
     "execution_count": 3,
     "metadata": {},
     "output_type": "execute_result"
    }
   ],
   "source": [
    "zero = np.zeros((3, 4))\n",
    "zero"
   ]
  },
  {
   "cell_type": "code",
   "execution_count": 20,
   "id": "35c6f77f-595d-4691-a59f-7498a635b97f",
   "metadata": {},
   "outputs": [
    {
     "data": {
      "text/plain": [
       "array([[0, 0, 0],\n",
       "       [0, 0, 0]], dtype=int8)"
      ]
     },
     "execution_count": 20,
     "metadata": {},
     "output_type": "execute_result"
    }
   ],
   "source": [
    "zero2 = np.zeros(shape = (2, 3), dtype = np.int8)\n",
    "zero2"
   ]
  },
  {
   "cell_type": "code",
   "execution_count": 21,
   "id": "4d4156ec-6717-418c-af7e-58241e9ea587",
   "metadata": {},
   "outputs": [
    {
     "data": {
      "text/plain": [
       "array([[1, 1, 1, 1],\n",
       "       [1, 1, 1, 1],\n",
       "       [1, 1, 1, 1]], dtype=int8)"
      ]
     },
     "execution_count": 21,
     "metadata": {},
     "output_type": "execute_result"
    }
   ],
   "source": [
    "one = np.ones((3, 4), dtype = np.int8)\n",
    "one"
   ]
  },
  {
   "cell_type": "code",
   "execution_count": 25,
   "id": "25082b7c-2bde-465a-a3fe-5a050c49995a",
   "metadata": {},
   "outputs": [
    {
     "data": {
      "text/plain": [
       "array([[7., 7., 7.],\n",
       "       [7., 7., 7.]])"
      ]
     },
     "execution_count": 25,
     "metadata": {},
     "output_type": "execute_result"
    }
   ],
   "source": [
    "# We can even pass tuples or lists as datatypes\n",
    "one2 = np.ones((2, 3)) * 7\n",
    "one2"
   ]
  },
  {
   "cell_type": "code",
   "execution_count": 26,
   "id": "de868ee6-72ee-40cb-b455-bc3a88583295",
   "metadata": {},
   "outputs": [
    {
     "data": {
      "text/plain": [
       "array([2, 4, 6, 8])"
      ]
     },
     "execution_count": 26,
     "metadata": {},
     "output_type": "execute_result"
    }
   ],
   "source": [
    "# we can use arange function which will be like alias as range function\n",
    "matr = np.arange(2, 10, 2)\n",
    "matr"
   ]
  },
  {
   "cell_type": "code",
   "execution_count": 29,
   "id": "75467371-4cd0-41ba-81e4-b7eeef357b48",
   "metadata": {},
   "outputs": [
    {
     "data": {
      "text/plain": [
       "array([2, 4, 6, 8])"
      ]
     },
     "execution_count": 29,
     "metadata": {},
     "output_type": "execute_result"
    }
   ],
   "source": [
    "#By default arange gives us 1d array, we can change it by reshaping it but no.of elements should be same\n",
    "matr = np.arange(2, 10, 2)\n",
    "matr"
   ]
  },
  {
   "cell_type": "code",
   "execution_count": 30,
   "id": "b5feb95c-e587-4009-b3ac-c466a2b2b784",
   "metadata": {},
   "outputs": [
    {
     "data": {
      "text/plain": [
       "array([[2, 4],\n",
       "       [6, 8]])"
      ]
     },
     "execution_count": 30,
     "metadata": {},
     "output_type": "execute_result"
    }
   ],
   "source": [
    "matr2 = matr.reshape(2, 2)\n",
    "matr2"
   ]
  },
  {
   "cell_type": "code",
   "execution_count": 34,
   "id": "87d7b4ee-1cfd-49d3-957a-d945cc4576e0",
   "metadata": {},
   "outputs": [
    {
     "data": {
      "text/plain": [
       "array([[ 1.,  2.],\n",
       "       [ 3.,  4.],\n",
       "       [ 5.,  6.],\n",
       "       [ 7.,  8.],\n",
       "       [ 9., 10.]])"
      ]
     },
     "execution_count": 34,
     "metadata": {},
     "output_type": "execute_result"
    }
   ],
   "source": [
    "#linspace gives us equally spaced values with the mentioned number and it includes both start and stop\n",
    "#Below one gives 10 equally spaced points in between 1, 10 and it include 1, 10\n",
    "matr3 = np.linspace(1, 10, 10).reshape(5, 2)\n",
    "matr3"
   ]
  },
  {
   "cell_type": "code",
   "execution_count": null,
   "id": "5d470eb0-538d-4b06-bea7-d73a1b2e99ff",
   "metadata": {},
   "outputs": [],
   "source": []
  }
 ],
 "metadata": {
  "kernelspec": {
   "display_name": "Python 3 (ipykernel)",
   "language": "python",
   "name": "python3"
  },
  "language_info": {
   "codemirror_mode": {
    "name": "ipython",
    "version": 3
   },
   "file_extension": ".py",
   "mimetype": "text/x-python",
   "name": "python",
   "nbconvert_exporter": "python",
   "pygments_lexer": "ipython3",
   "version": "3.11.7"
  }
 },
 "nbformat": 4,
 "nbformat_minor": 5
}
