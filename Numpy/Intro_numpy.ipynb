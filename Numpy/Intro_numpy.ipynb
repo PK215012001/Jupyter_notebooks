{
 "cells": [
  {
   "cell_type": "code",
   "execution_count": 2,
   "id": "a0065b53-0824-4084-a9e8-24fdf2c128a0",
   "metadata": {},
   "outputs": [],
   "source": [
    "import numpy as np"
   ]
  },
  {
   "cell_type": "markdown",
   "id": "90c2a214-f6a7-4423-949c-036332b6fd49",
   "metadata": {},
   "source": [
    "We can create a numpy array by passing a sequence data type inside np.array() function adn we can create any diemnsional array we want"
   ]
  },
  {
   "cell_type": "code",
   "execution_count": 18,
   "id": "193f6b46-7972-4e41-8329-f4da224599bc",
   "metadata": {},
   "outputs": [
    {
     "data": {
      "text/plain": [
       "array([1, 2, 3, 4])"
      ]
     },
     "execution_count": 18,
     "metadata": {},
     "output_type": "execute_result"
    }
   ],
   "source": [
    "arr = np.array([1, 2, 3, 4])\n",
    "arr"
   ]
  },
  {
   "cell_type": "code",
   "execution_count": 13,
   "id": "1b0bbe1d-a4f6-4e78-bfc6-3e18bc18e3e2",
   "metadata": {},
   "outputs": [
    {
     "data": {
      "text/plain": [
       "numpy.ndarray"
      ]
     },
     "execution_count": 13,
     "metadata": {},
     "output_type": "execute_result"
    }
   ],
   "source": [
    "type(arr)"
   ]
  },
  {
   "cell_type": "code",
   "execution_count": 14,
   "id": "df8a31a4-602d-4415-b8d4-3e1017d631db",
   "metadata": {},
   "outputs": [
    {
     "data": {
      "text/plain": [
       "(4,)"
      ]
     },
     "execution_count": 14,
     "metadata": {},
     "output_type": "execute_result"
    }
   ],
   "source": [
    "arr.shape"
   ]
  },
  {
   "cell_type": "markdown",
   "id": "7fa7e6bb-93fa-477d-8eff-47473286ec1b",
   "metadata": {},
   "source": [
    "Creating a 2d array"
   ]
  },
  {
   "cell_type": "code",
   "execution_count": 15,
   "id": "504c0c75-8ce4-4ef3-8889-51123a47f513",
   "metadata": {},
   "outputs": [
    {
     "data": {
      "text/plain": [
       "array([[1, 2, 3, 4],\n",
       "       [5, 6, 7, 8]])"
      ]
     },
     "execution_count": 15,
     "metadata": {},
     "output_type": "execute_result"
    }
   ],
   "source": [
    "arr2 = np.array([[1, 2, 3, 4], [5, 6, 7, 8]])\n",
    "arr2"
   ]
  },
  {
   "cell_type": "code",
   "execution_count": 16,
   "id": "023ce297-fe2a-4e56-a11b-56ea58681c9a",
   "metadata": {},
   "outputs": [
    {
     "data": {
      "text/plain": [
       "(2, 4)"
      ]
     },
     "execution_count": 16,
     "metadata": {},
     "output_type": "execute_result"
    }
   ],
   "source": [
    "arr2.shape"
   ]
  },
  {
   "cell_type": "markdown",
   "id": "68cedf8f-b959-414a-bcae-fee946918d10",
   "metadata": {},
   "source": [
    "Arrays are also mutable like lists"
   ]
  },
  {
   "cell_type": "code",
   "execution_count": 19,
   "id": "23f2ff70-dd16-49bf-a5e0-c3cf9f655a05",
   "metadata": {},
   "outputs": [
    {
     "data": {
      "text/plain": [
       "array([100,   2,   3,   4])"
      ]
     },
     "execution_count": 19,
     "metadata": {},
     "output_type": "execute_result"
    }
   ],
   "source": [
    "arr[0] = 100\n",
    "arr"
   ]
  },
  {
   "cell_type": "code",
   "execution_count": 20,
   "id": "1e1b2057-a27c-4b12-baaa-5c665a1196cd",
   "metadata": {},
   "outputs": [
    {
     "data": {
      "text/plain": [
       "array([[  1,   2,   3, 100],\n",
       "       [  5,   6,   7,   8]])"
      ]
     },
     "execution_count": 20,
     "metadata": {},
     "output_type": "execute_result"
    }
   ],
   "source": [
    "arr2[0][3] = 100\n",
    "arr2"
   ]
  },
  {
   "cell_type": "markdown",
   "id": "a5d783fe-4106-41cf-9a53-304da361d341",
   "metadata": {},
   "source": [
    "Slciing and indexing also can be done in an array"
   ]
  },
  {
   "cell_type": "code",
   "execution_count": 22,
   "id": "9e6694b2-b410-4137-ac79-645371edd4ce",
   "metadata": {},
   "outputs": [
    {
     "data": {
      "text/plain": [
       "4"
      ]
     },
     "execution_count": 22,
     "metadata": {},
     "output_type": "execute_result"
    }
   ],
   "source": [
    "arr[-1]"
   ]
  },
  {
   "cell_type": "code",
   "execution_count": 25,
   "id": "7dc303b1-8ca8-4610-9847-a43ade1e1012",
   "metadata": {},
   "outputs": [
    {
     "data": {
      "text/plain": [
       "array([4, 3])"
      ]
     },
     "execution_count": 25,
     "metadata": {},
     "output_type": "execute_result"
    }
   ],
   "source": [
    "arr[-1:-3:-1]"
   ]
  },
  {
   "cell_type": "code",
   "execution_count": 26,
   "id": "358233e7-5664-493b-b89d-99d0f93c25c3",
   "metadata": {},
   "outputs": [
    {
     "data": {
      "text/plain": [
       "array([2, 3])"
      ]
     },
     "execution_count": 26,
     "metadata": {},
     "output_type": "execute_result"
    }
   ],
   "source": [
    "arr[1:-1]"
   ]
  },
  {
   "cell_type": "code",
   "execution_count": 27,
   "id": "459437d2-081b-4753-bdf9-f53e81bccca9",
   "metadata": {},
   "outputs": [
    {
     "data": {
      "text/plain": [
       "array([7, 8])"
      ]
     },
     "execution_count": 27,
     "metadata": {},
     "output_type": "execute_result"
    }
   ],
   "source": [
    "arr2[1][2:]"
   ]
  },
  {
   "cell_type": "markdown",
   "id": "103af12d-d36b-40af-9cf0-7c48b638d5b9",
   "metadata": {},
   "source": [
    "Array is actually a collection of same data types, even when we take different dtaatypes, it will convert all into similar data types"
   ]
  },
  {
   "cell_type": "code",
   "execution_count": 28,
   "id": "51633fa2-5ca4-4c37-9e4c-fbf1f0df069e",
   "metadata": {},
   "outputs": [
    {
     "data": {
      "text/plain": [
       "array(['1', '2.3', '(3+4j)', 'PK'], dtype='<U64')"
      ]
     },
     "execution_count": 28,
     "metadata": {},
     "output_type": "execute_result"
    }
   ],
   "source": [
    "arr3 = np.array([1, 2.3, 3+4j, 'PK'])\n",
    "arr3"
   ]
  },
  {
   "cell_type": "code",
   "execution_count": null,
   "id": "61f82199-6019-4083-b33d-d4eb6d524a7b",
   "metadata": {},
   "outputs": [],
   "source": []
  }
 ],
 "metadata": {
  "kernelspec": {
   "display_name": "Python 3 (ipykernel)",
   "language": "python",
   "name": "python3"
  },
  "language_info": {
   "codemirror_mode": {
    "name": "ipython",
    "version": 3
   },
   "file_extension": ".py",
   "mimetype": "text/x-python",
   "name": "python",
   "nbconvert_exporter": "python",
   "pygments_lexer": "ipython3",
   "version": "3.11.7"
  }
 },
 "nbformat": 4,
 "nbformat_minor": 5
}
