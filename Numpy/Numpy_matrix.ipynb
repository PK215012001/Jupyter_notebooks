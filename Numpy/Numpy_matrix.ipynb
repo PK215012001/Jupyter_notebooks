{
 "cells": [
  {
   "cell_type": "markdown",
   "id": "1b11a991-aaed-4228-b091-3eed91e9f32d",
   "metadata": {},
   "source": [
    "We have seperately matrix assocaited functions to ease out operations involving matrix operations"
   ]
  },
  {
   "cell_type": "code",
   "execution_count": 1,
   "id": "f62fe2eb-5da7-4c49-87ec-30429e7aea5b",
   "metadata": {},
   "outputs": [],
   "source": [
    "import numpy as np"
   ]
  },
  {
   "cell_type": "code",
   "execution_count": 2,
   "id": "0ba77283-0aae-4c49-9cbd-4a432cdc6889",
   "metadata": {},
   "outputs": [
    {
     "data": {
      "text/plain": [
       "matrix([[1, 2, 3, 4],\n",
       "        [5, 6, 7, 8]])"
      ]
     },
     "execution_count": 2,
     "metadata": {},
     "output_type": "execute_result"
    }
   ],
   "source": [
    "mat = np.matrix([[1, 2, 3, 4], [5, 6, 7, 8]])\n",
    "mat"
   ]
  },
  {
   "cell_type": "code",
   "execution_count": 3,
   "id": "0dbfe02b-c8de-40d7-85cb-f38500b234d2",
   "metadata": {},
   "outputs": [
    {
     "data": {
      "text/plain": [
       "matrix([[1, 5],\n",
       "        [2, 6],\n",
       "        [3, 7],\n",
       "        [4, 8]])"
      ]
     },
     "execution_count": 3,
     "metadata": {},
     "output_type": "execute_result"
    }
   ],
   "source": [
    "#we can find the transpose by using T attribute\n",
    "trans = mat.T\n",
    "trans"
   ]
  },
  {
   "cell_type": "code",
   "execution_count": 4,
   "id": "6969f057-8670-466d-bfe0-b6ca55074e97",
   "metadata": {},
   "outputs": [
    {
     "data": {
      "text/plain": [
       "array([[1., 0., 0.],\n",
       "       [0., 1., 0.],\n",
       "       [0., 0., 1.]])"
      ]
     },
     "execution_count": 4,
     "metadata": {},
     "output_type": "execute_result"
    }
   ],
   "source": [
    "# To get identity matrix\n",
    "id = np.eye(3)\n",
    "id"
   ]
  },
  {
   "cell_type": "code",
   "execution_count": 5,
   "id": "bd00da8c-386a-4a4f-aec6-3197ab5c425b",
   "metadata": {},
   "outputs": [
    {
     "data": {
      "text/plain": [
       "array([[1., 0., 0., 0.],\n",
       "       [0., 1., 0., 0.],\n",
       "       [0., 0., 1., 0.]])"
      ]
     },
     "execution_count": 5,
     "metadata": {},
     "output_type": "execute_result"
    }
   ],
   "source": [
    "# We can even pass shape\n",
    "id2 = np.eye(3, 4)\n",
    "id2"
   ]
  },
  {
   "cell_type": "code",
   "execution_count": 6,
   "id": "b6df7424-a176-45dc-804b-56556a205f20",
   "metadata": {},
   "outputs": [
    {
     "data": {
      "text/plain": [
       "array([[10,  0,  0],\n",
       "       [ 0, 20,  0],\n",
       "       [ 0,  0, 30]])"
      ]
     },
     "execution_count": 6,
     "metadata": {},
     "output_type": "execute_result"
    }
   ],
   "source": [
    "#If we want a pure diagonal matrix\n",
    "dgm = np.diag([10, 20, 30])\n",
    "dgm"
   ]
  },
  {
   "cell_type": "code",
   "execution_count": 8,
   "id": "f31ab3e4-86a4-4b78-a300-ac5fed0368dc",
   "metadata": {},
   "outputs": [
    {
     "data": {
      "text/plain": [
       "array([[10.,  0.,  0.],\n",
       "       [ 0., 20.,  0.],\n",
       "       [ 0.,  0., 30.]])"
      ]
     },
     "execution_count": 8,
     "metadata": {},
     "output_type": "execute_result"
    }
   ],
   "source": [
    "# for matrix multiplications\n",
    "id @ dgm"
   ]
  },
  {
   "cell_type": "code",
   "execution_count": null,
   "id": "b4657698-7b42-4665-bc9f-c9e180127ad9",
   "metadata": {},
   "outputs": [],
   "source": []
  }
 ],
 "metadata": {
  "kernelspec": {
   "display_name": "Python 3 (ipykernel)",
   "language": "python",
   "name": "python3"
  },
  "language_info": {
   "codemirror_mode": {
    "name": "ipython",
    "version": 3
   },
   "file_extension": ".py",
   "mimetype": "text/x-python",
   "name": "python",
   "nbconvert_exporter": "python",
   "pygments_lexer": "ipython3",
   "version": "3.11.7"
  }
 },
 "nbformat": 4,
 "nbformat_minor": 5
}
